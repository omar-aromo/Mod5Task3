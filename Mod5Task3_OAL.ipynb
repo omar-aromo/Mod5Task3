{
  "nbformat": 4,
  "nbformat_minor": 0,
  "metadata": {
    "colab": {
      "name": "Mod5Task3-OAL.ipynb",
      "provenance": [],
      "toc_visible": true,
      "authorship_tag": "ABX9TyMOl2OdaoKNKwvE41l29PhG",
      "include_colab_link": true
    },
    "kernelspec": {
      "name": "python3",
      "display_name": "Python 3"
    }
  },
  "cells": [
    {
      "cell_type": "markdown",
      "metadata": {
        "id": "view-in-github",
        "colab_type": "text"
      },
      "source": [
        "<a href=\"https://colab.research.google.com/github/omar-aromo/Mod5Task3/blob/master/Mod5Task3_OAL.ipynb\" target=\"_parent\"><img src=\"https://colab.research.google.com/assets/colab-badge.svg\" alt=\"Open In Colab\"/></a>"
      ]
    },
    {
      "cell_type": "code",
      "metadata": {
        "id": "I-oUNjY8LIDU",
        "colab_type": "code",
        "colab": {}
      },
      "source": [
        "#imports\n",
        "#numpy,pandas,scipy,math,matplotlib\n",
        "import numpy as np\n",
        "import pandas as pd\n",
        "import scipy\n",
        "from math import sqrt\n",
        "import matplotlib.pyplot as plt\n",
        "from matplotlib.colors import ListedColormap"
      ],
      "execution_count": 0,
      "outputs": []
    },
    {
      "cell_type": "code",
      "metadata": {
        "id": "3jlAMF6LQuKb",
        "colab_type": "code",
        "colab": {}
      },
      "source": [
        "#estimators\n",
        "from sklearn.ensemble import RandomForestClassifier\n",
        "from sklearn.neighbors import KNeighborsClassifier\n",
        "from sklearn.svm import SVC\n",
        "from sklearn import datasets\n",
        "from sklearn import linear_model\n",
        "from sklearn.model_selection import train_test_split\n",
        "from sklearn.preprocessing import StandardScaler\n",
        "from sklearn.neighbors import (KNeighborsClassifier, NeighborhoodComponentsAnalysis)\n",
        "from sklearn.pipeline import Pipeline, make_pipeline"
      ],
      "execution_count": 0,
      "outputs": []
    },
    {
      "cell_type": "code",
      "metadata": {
        "id": "8hZEa_AqQxHL",
        "colab_type": "code",
        "colab": {}
      },
      "source": [
        "#model metrics\n",
        "from sklearn.metrics import accuracy_score\n",
        "from sklearn.metrics import r2_score\n",
        "from sklearn.model_selection import cross_val_score\n",
        "from sklearn.model_selection import learning_curve, GridSearchCV"
      ],
      "execution_count": 0,
      "outputs": []
    },
    {
      "cell_type": "code",
      "metadata": {
        "id": "fj4-oS_kAtJq",
        "colab_type": "code",
        "colab": {}
      },
      "source": [
        "#dimension reduction\n",
        "from sklearn.preprocessing import StandardScaler\n",
        "from sklearn.decomposition import PCA"
      ],
      "execution_count": 0,
      "outputs": []
    },
    {
      "cell_type": "code",
      "metadata": {
        "id": "sVb8w7gwQ2Nr",
        "colab_type": "code",
        "colab": {}
      },
      "source": [
        "#cross validation\n",
        "from sklearn.model_selection import train_test_split"
      ],
      "execution_count": 0,
      "outputs": []
    },
    {
      "cell_type": "code",
      "metadata": {
        "id": "fvxnm683PWj_",
        "colab_type": "code",
        "outputId": "71c74735-54c9-4297-8fc8-6ec54fbe5273",
        "colab": {
          "base_uri": "https://localhost:8080/",
          "height": 278
        }
      },
      "source": [
        "#data\n",
        "rawData = pd.read_csv('https://raw.githubusercontent.com/omar-aromo/Mod5Task3/master/default%20of%20credit%20card%20clients.csv', header=1)\n",
        "rawData.head()"
      ],
      "execution_count": 0,
      "outputs": [
        {
          "output_type": "execute_result",
          "data": {
            "text/html": [
              "<div>\n",
              "<style scoped>\n",
              "    .dataframe tbody tr th:only-of-type {\n",
              "        vertical-align: middle;\n",
              "    }\n",
              "\n",
              "    .dataframe tbody tr th {\n",
              "        vertical-align: top;\n",
              "    }\n",
              "\n",
              "    .dataframe thead th {\n",
              "        text-align: right;\n",
              "    }\n",
              "</style>\n",
              "<table border=\"1\" class=\"dataframe\">\n",
              "  <thead>\n",
              "    <tr style=\"text-align: right;\">\n",
              "      <th></th>\n",
              "      <th>ID</th>\n",
              "      <th>LIMIT_BAL</th>\n",
              "      <th>SEX</th>\n",
              "      <th>EDUCATION</th>\n",
              "      <th>MARRIAGE</th>\n",
              "      <th>AGE</th>\n",
              "      <th>PAY_0</th>\n",
              "      <th>PAY_2</th>\n",
              "      <th>PAY_3</th>\n",
              "      <th>PAY_4</th>\n",
              "      <th>PAY_5</th>\n",
              "      <th>PAY_6</th>\n",
              "      <th>BILL_AMT1</th>\n",
              "      <th>BILL_AMT2</th>\n",
              "      <th>BILL_AMT3</th>\n",
              "      <th>BILL_AMT4</th>\n",
              "      <th>BILL_AMT5</th>\n",
              "      <th>BILL_AMT6</th>\n",
              "      <th>PAY_AMT1</th>\n",
              "      <th>PAY_AMT2</th>\n",
              "      <th>PAY_AMT3</th>\n",
              "      <th>PAY_AMT4</th>\n",
              "      <th>PAY_AMT5</th>\n",
              "      <th>PAY_AMT6</th>\n",
              "      <th>default payment next month</th>\n",
              "    </tr>\n",
              "  </thead>\n",
              "  <tbody>\n",
              "    <tr>\n",
              "      <th>0</th>\n",
              "      <td>1</td>\n",
              "      <td>20000</td>\n",
              "      <td>2</td>\n",
              "      <td>2</td>\n",
              "      <td>1</td>\n",
              "      <td>24</td>\n",
              "      <td>2</td>\n",
              "      <td>2</td>\n",
              "      <td>-1</td>\n",
              "      <td>-1</td>\n",
              "      <td>-2</td>\n",
              "      <td>-2</td>\n",
              "      <td>3913</td>\n",
              "      <td>3102</td>\n",
              "      <td>689</td>\n",
              "      <td>0</td>\n",
              "      <td>0</td>\n",
              "      <td>0</td>\n",
              "      <td>0</td>\n",
              "      <td>689</td>\n",
              "      <td>0</td>\n",
              "      <td>0</td>\n",
              "      <td>0</td>\n",
              "      <td>0</td>\n",
              "      <td>1</td>\n",
              "    </tr>\n",
              "    <tr>\n",
              "      <th>1</th>\n",
              "      <td>2</td>\n",
              "      <td>120000</td>\n",
              "      <td>2</td>\n",
              "      <td>2</td>\n",
              "      <td>2</td>\n",
              "      <td>26</td>\n",
              "      <td>-1</td>\n",
              "      <td>2</td>\n",
              "      <td>0</td>\n",
              "      <td>0</td>\n",
              "      <td>0</td>\n",
              "      <td>2</td>\n",
              "      <td>2682</td>\n",
              "      <td>1725</td>\n",
              "      <td>2682</td>\n",
              "      <td>3272</td>\n",
              "      <td>3455</td>\n",
              "      <td>3261</td>\n",
              "      <td>0</td>\n",
              "      <td>1000</td>\n",
              "      <td>1000</td>\n",
              "      <td>1000</td>\n",
              "      <td>0</td>\n",
              "      <td>2000</td>\n",
              "      <td>1</td>\n",
              "    </tr>\n",
              "    <tr>\n",
              "      <th>2</th>\n",
              "      <td>3</td>\n",
              "      <td>90000</td>\n",
              "      <td>2</td>\n",
              "      <td>2</td>\n",
              "      <td>2</td>\n",
              "      <td>34</td>\n",
              "      <td>0</td>\n",
              "      <td>0</td>\n",
              "      <td>0</td>\n",
              "      <td>0</td>\n",
              "      <td>0</td>\n",
              "      <td>0</td>\n",
              "      <td>29239</td>\n",
              "      <td>14027</td>\n",
              "      <td>13559</td>\n",
              "      <td>14331</td>\n",
              "      <td>14948</td>\n",
              "      <td>15549</td>\n",
              "      <td>1518</td>\n",
              "      <td>1500</td>\n",
              "      <td>1000</td>\n",
              "      <td>1000</td>\n",
              "      <td>1000</td>\n",
              "      <td>5000</td>\n",
              "      <td>0</td>\n",
              "    </tr>\n",
              "    <tr>\n",
              "      <th>3</th>\n",
              "      <td>4</td>\n",
              "      <td>50000</td>\n",
              "      <td>2</td>\n",
              "      <td>2</td>\n",
              "      <td>1</td>\n",
              "      <td>37</td>\n",
              "      <td>0</td>\n",
              "      <td>0</td>\n",
              "      <td>0</td>\n",
              "      <td>0</td>\n",
              "      <td>0</td>\n",
              "      <td>0</td>\n",
              "      <td>46990</td>\n",
              "      <td>48233</td>\n",
              "      <td>49291</td>\n",
              "      <td>28314</td>\n",
              "      <td>28959</td>\n",
              "      <td>29547</td>\n",
              "      <td>2000</td>\n",
              "      <td>2019</td>\n",
              "      <td>1200</td>\n",
              "      <td>1100</td>\n",
              "      <td>1069</td>\n",
              "      <td>1000</td>\n",
              "      <td>0</td>\n",
              "    </tr>\n",
              "    <tr>\n",
              "      <th>4</th>\n",
              "      <td>5</td>\n",
              "      <td>50000</td>\n",
              "      <td>1</td>\n",
              "      <td>2</td>\n",
              "      <td>1</td>\n",
              "      <td>57</td>\n",
              "      <td>-1</td>\n",
              "      <td>0</td>\n",
              "      <td>-1</td>\n",
              "      <td>0</td>\n",
              "      <td>0</td>\n",
              "      <td>0</td>\n",
              "      <td>8617</td>\n",
              "      <td>5670</td>\n",
              "      <td>35835</td>\n",
              "      <td>20940</td>\n",
              "      <td>19146</td>\n",
              "      <td>19131</td>\n",
              "      <td>2000</td>\n",
              "      <td>36681</td>\n",
              "      <td>10000</td>\n",
              "      <td>9000</td>\n",
              "      <td>689</td>\n",
              "      <td>679</td>\n",
              "      <td>0</td>\n",
              "    </tr>\n",
              "  </tbody>\n",
              "</table>\n",
              "</div>"
            ],
            "text/plain": [
              "   ID  LIMIT_BAL  SEX  ...  PAY_AMT5  PAY_AMT6  default payment next month\n",
              "0   1      20000    2  ...         0         0                           1\n",
              "1   2     120000    2  ...         0      2000                           1\n",
              "2   3      90000    2  ...      1000      5000                           0\n",
              "3   4      50000    2  ...      1069      1000                           0\n",
              "4   5      50000    1  ...       689       679                           0\n",
              "\n",
              "[5 rows x 25 columns]"
            ]
          },
          "metadata": {
            "tags": []
          },
          "execution_count": 40
        }
      ]
    },
    {
      "cell_type": "code",
      "metadata": {
        "id": "H_eesqa0RXOU",
        "colab_type": "code",
        "outputId": "ca1f2e8e-cda6-4c6c-a907-707d9a32872c",
        "colab": {
          "base_uri": "https://localhost:8080/",
          "height": 568
        }
      },
      "source": [
        "#Examinando la estructura de los datos\n",
        "rawData.info()"
      ],
      "execution_count": 0,
      "outputs": [
        {
          "output_type": "stream",
          "text": [
            "<class 'pandas.core.frame.DataFrame'>\n",
            "RangeIndex: 30000 entries, 0 to 29999\n",
            "Data columns (total 25 columns):\n",
            "ID                            30000 non-null int64\n",
            "LIMIT_BAL                     30000 non-null int64\n",
            "SEX                           30000 non-null int64\n",
            "EDUCATION                     30000 non-null int64\n",
            "MARRIAGE                      30000 non-null int64\n",
            "AGE                           30000 non-null int64\n",
            "PAY_0                         30000 non-null int64\n",
            "PAY_2                         30000 non-null int64\n",
            "PAY_3                         30000 non-null int64\n",
            "PAY_4                         30000 non-null int64\n",
            "PAY_5                         30000 non-null int64\n",
            "PAY_6                         30000 non-null int64\n",
            "BILL_AMT1                     30000 non-null int64\n",
            "BILL_AMT2                     30000 non-null int64\n",
            "BILL_AMT3                     30000 non-null int64\n",
            "BILL_AMT4                     30000 non-null int64\n",
            "BILL_AMT5                     30000 non-null int64\n",
            "BILL_AMT6                     30000 non-null int64\n",
            "PAY_AMT1                      30000 non-null int64\n",
            "PAY_AMT2                      30000 non-null int64\n",
            "PAY_AMT3                      30000 non-null int64\n",
            "PAY_AMT4                      30000 non-null int64\n",
            "PAY_AMT5                      30000 non-null int64\n",
            "PAY_AMT6                      30000 non-null int64\n",
            "default payment next month    30000 non-null int64\n",
            "dtypes: int64(25)\n",
            "memory usage: 5.7 MB\n"
          ],
          "name": "stdout"
        }
      ]
    },
    {
      "cell_type": "code",
      "metadata": {
        "id": "MOohIDRDSCJ5",
        "colab_type": "code",
        "colab": {}
      },
      "source": [
        "rawData = rawData.astype({\"ID\":'category', \"SEX\":'category', \"EDUCATION\":'category', \"AGE\":'category', \"MARRIAGE\":'category', \"PAY_0\":'category', \"PAY_2\":'category', \"PAY_3\":'category', \"PAY_4\":'category', \"PAY_5\":'category', \"PAY_6\":'category', \"default payment next month\":'category'})"
      ],
      "execution_count": 0,
      "outputs": []
    },
    {
      "cell_type": "code",
      "metadata": {
        "id": "j-qIfayZUwdq",
        "colab_type": "code",
        "outputId": "d355c938-b28a-4345-fafd-0da9b4eeb800",
        "colab": {
          "base_uri": "https://localhost:8080/",
          "height": 568
        }
      },
      "source": [
        "rawData.info()"
      ],
      "execution_count": 0,
      "outputs": [
        {
          "output_type": "stream",
          "text": [
            "<class 'pandas.core.frame.DataFrame'>\n",
            "RangeIndex: 30000 entries, 0 to 29999\n",
            "Data columns (total 25 columns):\n",
            "ID                            30000 non-null category\n",
            "LIMIT_BAL                     30000 non-null int64\n",
            "SEX                           30000 non-null category\n",
            "EDUCATION                     30000 non-null category\n",
            "MARRIAGE                      30000 non-null category\n",
            "AGE                           30000 non-null category\n",
            "PAY_0                         30000 non-null category\n",
            "PAY_2                         30000 non-null category\n",
            "PAY_3                         30000 non-null category\n",
            "PAY_4                         30000 non-null category\n",
            "PAY_5                         30000 non-null category\n",
            "PAY_6                         30000 non-null category\n",
            "BILL_AMT1                     30000 non-null int64\n",
            "BILL_AMT2                     30000 non-null int64\n",
            "BILL_AMT3                     30000 non-null int64\n",
            "BILL_AMT4                     30000 non-null int64\n",
            "BILL_AMT5                     30000 non-null int64\n",
            "BILL_AMT6                     30000 non-null int64\n",
            "PAY_AMT1                      30000 non-null int64\n",
            "PAY_AMT2                      30000 non-null int64\n",
            "PAY_AMT3                      30000 non-null int64\n",
            "PAY_AMT4                      30000 non-null int64\n",
            "PAY_AMT5                      30000 non-null int64\n",
            "PAY_AMT6                      30000 non-null int64\n",
            "default payment next month    30000 non-null category\n",
            "dtypes: category(12), int64(13)\n",
            "memory usage: 4.8 MB\n"
          ],
          "name": "stdout"
        }
      ]
    },
    {
      "cell_type": "code",
      "metadata": {
        "id": "ZDr9PA3ZTlTJ",
        "colab_type": "code",
        "outputId": "21e1004a-4085-49ca-e737-e8feaa111474",
        "colab": {
          "base_uri": "https://localhost:8080/",
          "height": 225
        }
      },
      "source": [
        "#features\n",
        "features = rawData.iloc[:,1:11]\n",
        "print('Resumen de muestra de características')\n",
        "features.head()"
      ],
      "execution_count": 0,
      "outputs": [
        {
          "output_type": "stream",
          "text": [
            "Resumen de muestra de características\n"
          ],
          "name": "stdout"
        },
        {
          "output_type": "execute_result",
          "data": {
            "text/html": [
              "<div>\n",
              "<style scoped>\n",
              "    .dataframe tbody tr th:only-of-type {\n",
              "        vertical-align: middle;\n",
              "    }\n",
              "\n",
              "    .dataframe tbody tr th {\n",
              "        vertical-align: top;\n",
              "    }\n",
              "\n",
              "    .dataframe thead th {\n",
              "        text-align: right;\n",
              "    }\n",
              "</style>\n",
              "<table border=\"1\" class=\"dataframe\">\n",
              "  <thead>\n",
              "    <tr style=\"text-align: right;\">\n",
              "      <th></th>\n",
              "      <th>LIMIT_BAL</th>\n",
              "      <th>SEX</th>\n",
              "      <th>EDUCATION</th>\n",
              "      <th>MARRIAGE</th>\n",
              "      <th>AGE</th>\n",
              "      <th>PAY_0</th>\n",
              "      <th>PAY_2</th>\n",
              "      <th>PAY_3</th>\n",
              "      <th>PAY_4</th>\n",
              "      <th>PAY_5</th>\n",
              "    </tr>\n",
              "  </thead>\n",
              "  <tbody>\n",
              "    <tr>\n",
              "      <th>0</th>\n",
              "      <td>20000</td>\n",
              "      <td>2</td>\n",
              "      <td>2</td>\n",
              "      <td>1</td>\n",
              "      <td>24</td>\n",
              "      <td>2</td>\n",
              "      <td>2</td>\n",
              "      <td>-1</td>\n",
              "      <td>-1</td>\n",
              "      <td>-2</td>\n",
              "    </tr>\n",
              "    <tr>\n",
              "      <th>1</th>\n",
              "      <td>120000</td>\n",
              "      <td>2</td>\n",
              "      <td>2</td>\n",
              "      <td>2</td>\n",
              "      <td>26</td>\n",
              "      <td>-1</td>\n",
              "      <td>2</td>\n",
              "      <td>0</td>\n",
              "      <td>0</td>\n",
              "      <td>0</td>\n",
              "    </tr>\n",
              "    <tr>\n",
              "      <th>2</th>\n",
              "      <td>90000</td>\n",
              "      <td>2</td>\n",
              "      <td>2</td>\n",
              "      <td>2</td>\n",
              "      <td>34</td>\n",
              "      <td>0</td>\n",
              "      <td>0</td>\n",
              "      <td>0</td>\n",
              "      <td>0</td>\n",
              "      <td>0</td>\n",
              "    </tr>\n",
              "    <tr>\n",
              "      <th>3</th>\n",
              "      <td>50000</td>\n",
              "      <td>2</td>\n",
              "      <td>2</td>\n",
              "      <td>1</td>\n",
              "      <td>37</td>\n",
              "      <td>0</td>\n",
              "      <td>0</td>\n",
              "      <td>0</td>\n",
              "      <td>0</td>\n",
              "      <td>0</td>\n",
              "    </tr>\n",
              "    <tr>\n",
              "      <th>4</th>\n",
              "      <td>50000</td>\n",
              "      <td>1</td>\n",
              "      <td>2</td>\n",
              "      <td>1</td>\n",
              "      <td>57</td>\n",
              "      <td>-1</td>\n",
              "      <td>0</td>\n",
              "      <td>-1</td>\n",
              "      <td>0</td>\n",
              "      <td>0</td>\n",
              "    </tr>\n",
              "  </tbody>\n",
              "</table>\n",
              "</div>"
            ],
            "text/plain": [
              "   LIMIT_BAL SEX EDUCATION MARRIAGE AGE PAY_0 PAY_2 PAY_3 PAY_4 PAY_5\n",
              "0      20000   2         2        1  24     2     2    -1    -1    -2\n",
              "1     120000   2         2        2  26    -1     2     0     0     0\n",
              "2      90000   2         2        2  34     0     0     0     0     0\n",
              "3      50000   2         2        1  37     0     0     0     0     0\n",
              "4      50000   1         2        1  57    -1     0    -1     0     0"
            ]
          },
          "metadata": {
            "tags": []
          },
          "execution_count": 44
        }
      ]
    },
    {
      "cell_type": "code",
      "metadata": {
        "id": "LJeYAPcSWGV6",
        "colab_type": "code",
        "colab": {}
      },
      "source": [
        "#variable dependiente\n",
        "depVar = rawData['default payment next month']"
      ],
      "execution_count": 0,
      "outputs": []
    },
    {
      "cell_type": "code",
      "metadata": {
        "id": "MKxYuxnvWjsj",
        "colab_type": "code",
        "colab": {}
      },
      "source": [
        "from sklearn.model_selection import train_test_split"
      ],
      "execution_count": 0,
      "outputs": []
    },
    {
      "cell_type": "code",
      "metadata": {
        "id": "_6Lq2od_WrDb",
        "colab_type": "code",
        "colab": {}
      },
      "source": [
        "X_train, X_test, y_train, y_test = train_test_split(features, depVar)"
      ],
      "execution_count": 0,
      "outputs": []
    },
    {
      "cell_type": "code",
      "metadata": {
        "id": "i4MzRk_PW4vz",
        "colab_type": "code",
        "outputId": "974f8398-f1cf-47bf-8c73-6d3131977ad0",
        "colab": {
          "base_uri": "https://localhost:8080/",
          "height": 35
        }
      },
      "source": [
        "X_train.shape, X_test.shape"
      ],
      "execution_count": 0,
      "outputs": [
        {
          "output_type": "execute_result",
          "data": {
            "text/plain": [
              "((22500, 10), (7500, 10))"
            ]
          },
          "metadata": {
            "tags": []
          },
          "execution_count": 48
        }
      ]
    },
    {
      "cell_type": "code",
      "metadata": {
        "id": "eihb6rrgXD_G",
        "colab_type": "code",
        "colab": {}
      },
      "source": [
        "#Models\n",
        "modelSVM = SVC()\n",
        "modelRF = RandomForestClassifier()\n",
        "modelKNN = KNeighborsClassifier()"
      ],
      "execution_count": 0,
      "outputs": []
    },
    {
      "cell_type": "code",
      "metadata": {
        "id": "_5mxdZLtXcYU",
        "colab_type": "code",
        "outputId": "6e7005b1-32e5-46b3-8d4f-3e5f18ea0371",
        "colab": {
          "base_uri": "https://localhost:8080/",
          "height": 90
        }
      },
      "source": [
        "modelSVM.fit(X_train,y_train)"
      ],
      "execution_count": 0,
      "outputs": [
        {
          "output_type": "execute_result",
          "data": {
            "text/plain": [
              "SVC(C=1.0, break_ties=False, cache_size=200, class_weight=None, coef0=0.0,\n",
              "    decision_function_shape='ovr', degree=3, gamma='scale', kernel='rbf',\n",
              "    max_iter=-1, probability=False, random_state=None, shrinking=True,\n",
              "    tol=0.001, verbose=False)"
            ]
          },
          "metadata": {
            "tags": []
          },
          "execution_count": 50
        }
      ]
    },
    {
      "cell_type": "code",
      "metadata": {
        "id": "EhoyWspvXvma",
        "colab_type": "code",
        "outputId": "3f1255f5-4f4e-455e-ed55-fef97403ac9b",
        "colab": {
          "base_uri": "https://localhost:8080/",
          "height": 164
        }
      },
      "source": [
        "modelRF.fit(X_train,y_train)"
      ],
      "execution_count": 0,
      "outputs": [
        {
          "output_type": "execute_result",
          "data": {
            "text/plain": [
              "RandomForestClassifier(bootstrap=True, ccp_alpha=0.0, class_weight=None,\n",
              "                       criterion='gini', max_depth=None, max_features='auto',\n",
              "                       max_leaf_nodes=None, max_samples=None,\n",
              "                       min_impurity_decrease=0.0, min_impurity_split=None,\n",
              "                       min_samples_leaf=1, min_samples_split=2,\n",
              "                       min_weight_fraction_leaf=0.0, n_estimators=100,\n",
              "                       n_jobs=None, oob_score=False, random_state=None,\n",
              "                       verbose=0, warm_start=False)"
            ]
          },
          "metadata": {
            "tags": []
          },
          "execution_count": 51
        }
      ]
    },
    {
      "cell_type": "code",
      "metadata": {
        "id": "aSrGHEF2X1YN",
        "colab_type": "code",
        "outputId": "1bdb4065-20be-4f85-bbdc-6fab141737f6",
        "colab": {
          "base_uri": "https://localhost:8080/",
          "height": 72
        }
      },
      "source": [
        "modelKNN.fit(X_train,y_train)"
      ],
      "execution_count": 0,
      "outputs": [
        {
          "output_type": "execute_result",
          "data": {
            "text/plain": [
              "KNeighborsClassifier(algorithm='auto', leaf_size=30, metric='minkowski',\n",
              "                     metric_params=None, n_jobs=None, n_neighbors=5, p=2,\n",
              "                     weights='uniform')"
            ]
          },
          "metadata": {
            "tags": []
          },
          "execution_count": 52
        }
      ]
    },
    {
      "cell_type": "code",
      "metadata": {
        "id": "FMWdH2v8YLll",
        "colab_type": "code",
        "colab": {}
      },
      "source": [
        "from sklearn.model_selection import cross_val_score"
      ],
      "execution_count": 0,
      "outputs": []
    },
    {
      "cell_type": "code",
      "metadata": {
        "id": "hzpqnZHsYT0u",
        "colab_type": "code",
        "outputId": "50413016-008e-4c06-9b4d-f4782e2af89c",
        "colab": {
          "base_uri": "https://localhost:8080/",
          "height": 35
        }
      },
      "source": [
        "print(cross_val_score(modelSVM, X_train, y_train))"
      ],
      "execution_count": 0,
      "outputs": [
        {
          "output_type": "stream",
          "text": [
            "[0.778      0.778      0.778      0.778      0.77777778]\n"
          ],
          "name": "stdout"
        }
      ]
    },
    {
      "cell_type": "code",
      "metadata": {
        "id": "g0BBu4MpYkZI",
        "colab_type": "code",
        "outputId": "506cce4d-f12f-4002-e98f-7b5247c42d98",
        "colab": {
          "base_uri": "https://localhost:8080/",
          "height": 35
        }
      },
      "source": [
        "print(cross_val_score(modelRF, X_train, y_train))\n",
        "#[AUC]"
      ],
      "execution_count": 0,
      "outputs": [
        {
          "output_type": "stream",
          "text": [
            "[0.78977778 0.79311111 0.798      0.79177778 0.794     ]\n"
          ],
          "name": "stdout"
        }
      ]
    },
    {
      "cell_type": "code",
      "metadata": {
        "id": "GNDmbE65YoLh",
        "colab_type": "code",
        "outputId": "29a252bc-414e-4419-db1c-8e092c27fb3b",
        "colab": {
          "base_uri": "https://localhost:8080/",
          "height": 35
        }
      },
      "source": [
        "print(cross_val_score(modelKNN, X_train, y_train))"
      ],
      "execution_count": 0,
      "outputs": [
        {
          "output_type": "stream",
          "text": [
            "[0.79       0.78711111 0.792      0.78733333 0.77933333]\n"
          ],
          "name": "stdout"
        }
      ]
    },
    {
      "cell_type": "code",
      "metadata": {
        "id": "XzSiBGTYY1Vu",
        "colab_type": "code",
        "outputId": "527c0e02-425a-41b7-f691-e3e89de8b6cc",
        "colab": {
          "base_uri": "https://localhost:8080/",
          "height": 35
        }
      },
      "source": [
        "modelSVM.score(X_train, y_train)"
      ],
      "execution_count": 0,
      "outputs": [
        {
          "output_type": "execute_result",
          "data": {
            "text/plain": [
              "0.7779555555555555"
            ]
          },
          "metadata": {
            "tags": []
          },
          "execution_count": 57
        }
      ]
    },
    {
      "cell_type": "code",
      "metadata": {
        "id": "ddxUK8-wY_YL",
        "colab_type": "code",
        "outputId": "3bb15a60-2652-4d1b-9513-f3596541a804",
        "colab": {
          "base_uri": "https://localhost:8080/",
          "height": 35
        }
      },
      "source": [
        "modelRF.score(X_train, y_train)\n",
        "#Return the mean accuracy on the given test data and labels."
      ],
      "execution_count": 0,
      "outputs": [
        {
          "output_type": "execute_result",
          "data": {
            "text/plain": [
              "0.9684888888888888"
            ]
          },
          "metadata": {
            "tags": []
          },
          "execution_count": 58
        }
      ]
    },
    {
      "cell_type": "code",
      "metadata": {
        "id": "jlglUWZNZCuJ",
        "colab_type": "code",
        "outputId": "01686d82-37ac-48ba-a979-6daddedeead1",
        "colab": {
          "base_uri": "https://localhost:8080/",
          "height": 35
        }
      },
      "source": [
        "modelKNN.score(X_train, y_train)"
      ],
      "execution_count": 0,
      "outputs": [
        {
          "output_type": "execute_result",
          "data": {
            "text/plain": [
              "0.8351111111111111"
            ]
          },
          "metadata": {
            "tags": []
          },
          "execution_count": 59
        }
      ]
    },
    {
      "cell_type": "markdown",
      "metadata": {
        "id": "MbrjfGsgbK-C",
        "colab_type": "text"
      },
      "source": [
        "Despues de lo visto en clase decido escoger KNN"
      ]
    },
    {
      "cell_type": "code",
      "metadata": {
        "id": "BszZZm-JbJ3K",
        "colab_type": "code",
        "colab": {}
      },
      "source": [
        "RF_predict = modelRF.predict(X_test)"
      ],
      "execution_count": 0,
      "outputs": []
    },
    {
      "cell_type": "code",
      "metadata": {
        "id": "ogvIlIaIbVox",
        "colab_type": "code",
        "outputId": "e1fe4c70-c7a9-4e4e-89af-e9baf8be86a2",
        "colab": {
          "base_uri": "https://localhost:8080/",
          "height": 35
        }
      },
      "source": [
        "accuracy_score(y_test, RF_predict)"
      ],
      "execution_count": 0,
      "outputs": [
        {
          "output_type": "execute_result",
          "data": {
            "text/plain": [
              "0.7912"
            ]
          },
          "metadata": {
            "tags": []
          },
          "execution_count": 61
        }
      ]
    },
    {
      "cell_type": "code",
      "metadata": {
        "id": "dOvOxSVJbghm",
        "colab_type": "code",
        "colab": {}
      },
      "source": [
        "SVM_predict = modelSVM.predict(X_test)"
      ],
      "execution_count": 0,
      "outputs": []
    },
    {
      "cell_type": "code",
      "metadata": {
        "id": "_WcFt7umboin",
        "colab_type": "code",
        "outputId": "9a341f77-f245-4d67-dcd9-64e562e67365",
        "colab": {
          "base_uri": "https://localhost:8080/",
          "height": 35
        }
      },
      "source": [
        "accuracy_score(y_test, SVM_predict)"
      ],
      "execution_count": 0,
      "outputs": [
        {
          "output_type": "execute_result",
          "data": {
            "text/plain": [
              "0.7813333333333333"
            ]
          },
          "metadata": {
            "tags": []
          },
          "execution_count": 63
        }
      ]
    },
    {
      "cell_type": "code",
      "metadata": {
        "id": "UZHEBVFObw2V",
        "colab_type": "code",
        "colab": {}
      },
      "source": [
        "KNN_predict = modelKNN.predict(X_test)"
      ],
      "execution_count": 0,
      "outputs": []
    },
    {
      "cell_type": "code",
      "metadata": {
        "id": "5BgbTVWNb2RN",
        "colab_type": "code",
        "outputId": "fe75b7ff-8965-4ae6-919f-03f6874eee30",
        "colab": {
          "base_uri": "https://localhost:8080/",
          "height": 35
        }
      },
      "source": [
        "accuracy_score(y_test, KNN_predict)"
      ],
      "execution_count": 0,
      "outputs": [
        {
          "output_type": "execute_result",
          "data": {
            "text/plain": [
              "0.7932"
            ]
          },
          "metadata": {
            "tags": []
          },
          "execution_count": 65
        }
      ]
    },
    {
      "cell_type": "code",
      "metadata": {
        "id": "c_RokM43b_jy",
        "colab_type": "code",
        "outputId": "6d5a4977-3f66-4fae-e9dc-3ee6ddfd72f3",
        "colab": {
          "base_uri": "https://localhost:8080/",
          "height": 182
        }
      },
      "source": [
        "from sklearn import metrics\n",
        "print(metrics.classification_report(y_test, KNN_predict))"
      ],
      "execution_count": 0,
      "outputs": [
        {
          "output_type": "stream",
          "text": [
            "              precision    recall  f1-score   support\n",
            "\n",
            "           0       0.82      0.93      0.88      5860\n",
            "           1       0.55      0.29      0.38      1640\n",
            "\n",
            "    accuracy                           0.79      7500\n",
            "   macro avg       0.69      0.61      0.63      7500\n",
            "weighted avg       0.76      0.79      0.77      7500\n",
            "\n"
          ],
          "name": "stdout"
        }
      ]
    },
    {
      "cell_type": "code",
      "metadata": {
        "id": "umXK1tPJ1u2L",
        "colab_type": "code",
        "outputId": "d56f5806-5437-4e45-e4b9-4e4572a822c2",
        "colab": {
          "base_uri": "https://localhost:8080/",
          "height": 239
        }
      },
      "source": [
        "from sklearn import metrics\n",
        "print(metrics.classification_report(y_test, SVM_predict))"
      ],
      "execution_count": 0,
      "outputs": [
        {
          "output_type": "stream",
          "text": [
            "              precision    recall  f1-score   support\n",
            "\n",
            "           0       0.78      1.00      0.88      5860\n",
            "           1       0.00      0.00      0.00      1640\n",
            "\n",
            "    accuracy                           0.78      7500\n",
            "   macro avg       0.39      0.50      0.44      7500\n",
            "weighted avg       0.61      0.78      0.69      7500\n",
            "\n"
          ],
          "name": "stdout"
        },
        {
          "output_type": "stream",
          "text": [
            "/usr/local/lib/python3.6/dist-packages/sklearn/metrics/_classification.py:1272: UndefinedMetricWarning: Precision and F-score are ill-defined and being set to 0.0 in labels with no predicted samples. Use `zero_division` parameter to control this behavior.\n",
            "  _warn_prf(average, modifier, msg_start, len(result))\n"
          ],
          "name": "stderr"
        }
      ]
    },
    {
      "cell_type": "code",
      "metadata": {
        "id": "EKYkoL8J16ft",
        "colab_type": "code",
        "outputId": "f7c43a61-4f21-4e7b-f0cd-ff7378de1c4a",
        "colab": {
          "base_uri": "https://localhost:8080/",
          "height": 182
        }
      },
      "source": [
        "from sklearn import metrics\n",
        "print(metrics.classification_report(y_test, RF_predict))"
      ],
      "execution_count": 0,
      "outputs": [
        {
          "output_type": "stream",
          "text": [
            "              precision    recall  f1-score   support\n",
            "\n",
            "           0       0.84      0.91      0.87      5860\n",
            "           1       0.53      0.36      0.43      1640\n",
            "\n",
            "    accuracy                           0.79      7500\n",
            "   macro avg       0.68      0.64      0.65      7500\n",
            "weighted avg       0.77      0.79      0.78      7500\n",
            "\n"
          ],
          "name": "stdout"
        }
      ]
    },
    {
      "cell_type": "code",
      "metadata": {
        "id": "qwbt019H2vxI",
        "colab_type": "code",
        "outputId": "4de57a38-710a-4486-cd91-7345b1e79f55",
        "colab": {
          "base_uri": "https://localhost:8080/",
          "height": 35
        }
      },
      "source": [
        "KNN_predict"
      ],
      "execution_count": 0,
      "outputs": [
        {
          "output_type": "execute_result",
          "data": {
            "text/plain": [
              "array([0, 0, 0, ..., 0, 0, 0])"
            ]
          },
          "metadata": {
            "tags": []
          },
          "execution_count": 69
        }
      ]
    },
    {
      "cell_type": "markdown",
      "metadata": {
        "id": "3L_Hb4xLEDBu",
        "colab_type": "text"
      },
      "source": [
        "**RF muestra signos de overfitting**"
      ]
    },
    {
      "cell_type": "code",
      "metadata": {
        "id": "744Igez-DtMj",
        "colab_type": "code",
        "outputId": "85def198-1d8b-4b23-e977-ddcc16533f64",
        "colab": {
          "base_uri": "https://localhost:8080/",
          "height": 295
        }
      },
      "source": [
        "estimators = np.arange(1,25, 5)\n",
        "train_acc = np.empty(len(estimators))\n",
        "test_acc = np.empty(len(estimators))\n",
        "\n",
        "for counter, values in enumerate(estimators):\n",
        "    rf = make_pipeline(StandardScaler(),PCA(n_components= 2),RandomForestClassifier(n_estimators=values, criterion='entropy'))\n",
        "    rf.fit(X_train, y_train)\n",
        "    train_acc[counter] = rf.score(X_train, y_train)\n",
        "    test_acc[counter] = rf.score(X_test, y_test)\n",
        "\n",
        "plt.title('RF : Accuracy')\n",
        "plt.plot(estimators, test_acc, label = 'Testing Accuracy')\n",
        "plt.plot(estimators, train_acc, label = 'Training Accuracy')\n",
        "plt.legend()\n",
        "plt.xlabel('Number of Decision trees')\n",
        "plt.ylabel('Accuracy')\n",
        "plt.show()"
      ],
      "execution_count": 0,
      "outputs": [
        {
          "output_type": "display_data",
          "data": {
            "image/png": "[encoded data removed]",
            "text/plain": [
              "<Figure size 432x288 with 1 Axes>"
            ]
          },
          "metadata": {
            "tags": []
          }
        }
      ]
    },
    {
      "cell_type": "code",
      "metadata": {
        "id": "3wmByw3ZF7xF",
        "colab_type": "code",
        "outputId": "2f7d78f1-2d9b-4f00-f722-d9f9e1eca7d2",
        "colab": {
          "base_uri": "https://localhost:8080/",
          "height": 295
        }
      },
      "source": [
        "estimators = np.arange(.2,1.4, .2)\n",
        "train_acc = np.empty(len(estimators))\n",
        "test_acc = np.empty(len(estimators))\n",
        "\n",
        "for counter, values in enumerate(estimators):\n",
        "    svc = make_pipeline(StandardScaler(),PCA(n_components= 2),SVC(C=values,kernel='rbf'))\n",
        "    svc.fit(X_train, y_train)\n",
        "    train_acc[counter] = svc.score(X_train, y_train)\n",
        "    test_acc[counter] = svc.score(X_test, y_test)\n",
        "\n",
        "plt.title('SVC : Accuracy')\n",
        "plt.plot(estimators, test_acc, label = 'Testing Accuracy')\n",
        "plt.plot(estimators, train_acc, label = 'Training Accuracy')\n",
        "plt.legend()\n",
        "plt.xlabel('Number of C')\n",
        "plt.ylabel('Accuracy')\n",
        "plt.show()"
      ],
      "execution_count": 0,
      "outputs": [
        {
          "output_type": "display_data",
          "data": {
            "image/png": "[encoded data removed]",
            "text/plain": [
              "<Figure size 432x288 with 1 Axes>"
            ]
          },
          "metadata": {
            "tags": []
          }
        }
      ]
    },
    {
      "cell_type": "markdown",
      "metadata": {
        "id": "lqmqbtvxENDm",
        "colab_type": "text"
      },
      "source": [
        "**KNN es el modelo optimo**"
      ]
    },
    {
      "cell_type": "code",
      "metadata": {
        "id": "F6_p223yAC5t",
        "colab_type": "code",
        "outputId": "17898e40-02c2-4504-8673-4b8dc1ca5cb4",
        "colab": {
          "base_uri": "https://localhost:8080/",
          "height": 295
        }
      },
      "source": [
        "neighbors = np.arange(5,40, 5)\n",
        "train_acc = np.empty(len(neighbors))\n",
        "test_acc = np.empty(len(neighbors))\n",
        "\n",
        "# test different K values\n",
        "\n",
        "for counter, values in enumerate(neighbors):\n",
        "    knn = make_pipeline(StandardScaler(),PCA(n_components=2),KNeighborsClassifier(n_neighbors=values))\n",
        "    knn.fit(X_train, y_train)\n",
        "    train_acc[counter] = knn.score(X_train, y_train)\n",
        "    test_acc[counter] = knn.score(X_test, y_test)\n",
        "\n",
        "### generate accuracy plot\n",
        "plt.title('KNN: Accuracy')\n",
        "plt.plot(neighbors, test_acc, label = 'Testing Accuracy')\n",
        "plt.plot(neighbors, train_acc, label = 'Training Accuracy')\n",
        "plt.legend()\n",
        "plt.xlabel('Number of Neighbors')\n",
        "plt.ylabel('Accuracy')\n",
        "plt.show()"
      ],
      "execution_count": 0,
      "outputs": [
        {
          "output_type": "display_data",
          "data": {
            "image/png": "[encoded data removed]",
            "text/plain": [
              "<Figure size 432x288 with 1 Axes>"
            ]
          },
          "metadata": {
            "tags": []
          }
        }
      ]
    }
  ]
}